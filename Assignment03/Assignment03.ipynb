{
  "nbformat": 4,
  "nbformat_minor": 0,
  "metadata": {
    "colab": {
      "provenance": []
    },
    "kernelspec": {
      "name": "python3",
      "display_name": "Python 3"
    },
    "language_info": {
      "name": "python"
    }
  },
  "cells": [
    {
      "cell_type": "code",
      "source": [
        "#@title Imports\n",
        "import tensorflow as tf\n",
        "import tensorflow.keras as keras\n",
        "import numpy as np \n",
        "import random, os\n",
        "import pandas as pd\n",
        "from math import floor, ceil\n",
        "from pylab import rcParams\n",
        "from time import gmtime, strftime\n",
        "from sklearn.model_selection import train_test_split"
      ],
      "metadata": {
        "id": "J1vJA6_TGzhX"
      },
      "execution_count": null,
      "outputs": []
    },
    {
      "cell_type": "code",
      "execution_count": null,
      "metadata": {
        "colab": {
          "base_uri": "https://localhost:8080/",
          "height": 70
        },
        "id": "dyzT0rAPDfn1",
        "outputId": "414bc7c7-7e31-4dbc-84d4-c985b022336b"
      },
      "outputs": [
        {
          "output_type": "execute_result",
          "data": {
            "text/plain": [
              "'\\n\\n\\nprint(x_train_num_cars)\\nprint(x_train_num_loads)\\n\\nprint(x_train_num_wheels)\\nprint(x_train_num_length)\\nprint(x_train_num_shape)\\nprint(x_train_car_loads)\\nprint(x_train_num_load_shape)\\n\\nprint(x_train_rectorec)\\nprint(x_train_rectotri)\\nprint(x_train_rectocircle)\\nprint(x_train_tritotri)\\nprint(x_train_tritohex)\\nprint(x_train_hextohex)\\nprint(x_train_hextocir)\\nprint(x_train_class)\\n'"
            ],
            "application/vnd.google.colaboratory.intrinsic+json": {
              "type": "string"
            }
          },
          "metadata": {},
          "execution_count": 8
        }
      ],
      "source": [
        "#@title Tratando os dados\n",
        "\n",
        "\n",
        "params = ['ncars', 'nloads', \n",
        "          '1nwhells', '1lenght', '1shape', '1loads', '1lshape',\n",
        "          '2nwhells', '2lenght', '2shape', '2loads', '2lshape',\n",
        "          '3nwhells', '3lenght', '3shape', '3loads', '3lshape',\n",
        "          '4nwhells', '4lenght', '4shape', '4loads', '4lshape',\n",
        "          \n",
        "          'rectorec', 'rectotri', 'rectohex', 'rectocircle', 'tritotri', 'tritohex', 'tritocir','hextohex','hextocir','cirtocir', 'class']\n",
        "\n",
        "data = pd.read_csv(\"/content/trains-transformed.data\", delimiter=' ', header=None, names=params)\n",
        "\n",
        "x_train_num_cars = pd.DataFrame(data[['ncars']]).head().reset_index(drop=True)\n",
        "x_train_num_loads = pd.DataFrame(data[['nloads']]).head()\n",
        "\n",
        "x_train_num_wheels = pd.DataFrame(data[['ncars','1nwhells','2nwhells','3nwhells','4nwhells']]).head()\n",
        "x_train_num_length = pd.DataFrame(data[['ncars','1lenght','2lenght','3lenght','4lenght']]).head()\n",
        "x_train_num_shape = pd.DataFrame(data[['ncars','1shape','2shape','3shape','4shape']]).head()\n",
        "x_train_car_loads = pd.DataFrame(data[['ncars','1loads','1loads','3loads','4loads']]).head()\n",
        "x_train_num_load_shape = pd.DataFrame(data[['ncars','1lshape','2lshape','3lshape','4lshape']]).head()\n",
        "\n",
        "x_train_rectorec = pd.DataFrame(data[['ncars','rectorec']]).head()\n",
        "x_train_rectotri = pd.DataFrame(data[['ncars','rectotri']]).head()\n",
        "x_train_rectocircle = pd.DataFrame(data[['ncars','rectocircle']]).head()\n",
        "x_train_tritotri = pd.DataFrame(data[['ncars','tritotri']]).head()\n",
        "x_train_tritohex = pd.DataFrame(data[['ncars','tritohex']]).head()\n",
        "x_train_hextohex = pd.DataFrame(data[['ncars','hextohex']]).head()\n",
        "x_train_hextocir = pd.DataFrame(data[['ncars','hextocir']]).head()\n",
        "x_train_class = pd.DataFrame(data[['ncars','class']]).head()\n",
        "\n",
        "\n",
        "#x_train_num_length = x_train_num_length.replace('short',-1).replace('long',1)//\n",
        "\n",
        "'''\n",
        "\n",
        "\n",
        "print(x_train_num_cars)\n",
        "print(x_train_num_loads)\n",
        "\n",
        "print(x_train_num_wheels)\n",
        "print(x_train_num_length)\n",
        "print(x_train_num_shape)\n",
        "print(x_train_car_loads)\n",
        "print(x_train_num_load_shape)\n",
        "\n",
        "print(x_train_rectorec)\n",
        "print(x_train_rectotri)\n",
        "print(x_train_rectocircle)\n",
        "print(x_train_tritotri)\n",
        "print(x_train_tritohex)\n",
        "print(x_train_hextohex)\n",
        "print(x_train_hextocir)\n",
        "print(x_train_class)\n",
        "\n",
        "\n",
        "\n",
        "prediction = model.predict(X_test[:1])\n",
        "print(X_test[:1], \" prediction shape:\", prediction)\n",
        "\n",
        "direction = -1\n",
        "\n",
        "if ( prediction > 0.5 and prediction < 1.0) :\n",
        "  direction = 1\n",
        "\n",
        "print(direction)\n",
        "\n",
        "'''"
      ]
    },
    {
      "cell_type": "code",
      "source": [
        "#@title Neural Network num_car\n",
        "taxa_aprendizado = 0.3\n",
        "\n",
        "# Codificar one-hot\n",
        "def encode(series):\n",
        "    return  pd.get_dummies(series.astype(str))\n",
        "\n",
        "dados = x_train_num_cars.sample(frac=1).reset_index(drop=True)\n",
        "\n",
        "\n",
        "# Predicados\n",
        "X = x_train_num_cars['ncars']\n",
        "\n",
        "# Labels\n",
        "y = encode(x_train_num_cars['ncars'])\n",
        "\n",
        "\n",
        "X_train, X_test, y_train, y_test = train_test_split( X, y, test_size=0.10, random_state=42)\n",
        "\n",
        "\n",
        "inputs = keras.Input(shape=(1,), name=\"digits\")\n",
        "x = tf.keras.layers.Dense(32, activation=\"relu\", name=\"dense_1\")(inputs)\n",
        "x = tf.keras.layers.Dense(9, activation=\"relu\", name=\"dense_2\")(x)\n",
        "outputs = tf.keras.layers.Dense(1, activation= tf.keras.activations.tanh, name=\"predictions\")(x)\n",
        "\n",
        "model = keras.Model(inputs=inputs, outputs=outputs)\n",
        "\n",
        "model.compile(loss=keras.losses.binary_crossentropy,\n",
        "             optimizer=keras.optimizers.Adam(lr=taxa_aprendizado),\n",
        "             metrics=['accuracy'])\n",
        "\n",
        "batch_size = 32  # X_train 535 / 32 = 16.71 (então são 17 batches de 32)\n",
        "epochs = 2\n",
        "\n",
        "history  = model.fit(X_train, y_train,\n",
        "                     epochs=epochs,\n",
        "                     validation_data=(X_test, y_test))\n",
        "\n",
        "#print(\"Evaluate model on test data\")\n",
        "results = model.evaluate(X_test, y_test, batch_size=128)\n",
        "#print(\"test loss, test acc:\", results)\n",
        "\n",
        "# Generate a prediction using model.predict() \n",
        "# and calculate it's shape:\n",
        "#print(\"Generate a prediction\")\n",
        "prediction = model.predict(X_test[:1])\n",
        "print(X_test[:1], \" prediction shape:\", prediction)\n",
        "\n",
        "direction = 0\n",
        "\n",
        "if ( prediction >= 0.5 and prediction <= 1.0) :\n",
        "  direction = 1\n",
        "\n",
        "if ( prediction <= -0.5 and prediction >= -1.0) :\n",
        "  direction = -1\n",
        "\n",
        "print(direction)\n",
        "\n",
        "\n"
      ],
      "metadata": {
        "colab": {
          "base_uri": "https://localhost:8080/"
        },
        "id": "r_I1K8l_DjTO",
        "outputId": "c054fdb8-f864-486d-daee-b7c281545199"
      },
      "execution_count": 222,
      "outputs": [
        {
          "output_type": "stream",
          "name": "stdout",
          "text": [
            "Epoch 1/2\n"
          ]
        },
        {
          "output_type": "stream",
          "name": "stderr",
          "text": [
            "/usr/local/lib/python3.8/dist-packages/keras/optimizers/optimizer_v2/adam.py:110: UserWarning: The `lr` argument is deprecated, use `learning_rate` instead.\n",
            "  super(Adam, self).__init__(name, **kwargs)\n"
          ]
        },
        {
          "output_type": "stream",
          "name": "stdout",
          "text": [
            "1/1 [==============================] - 1s 729ms/step - loss: 7.7125 - accuracy: 0.5000 - val_loss: 7.7125 - val_accuracy: 0.5000\n",
            "Epoch 2/2\n",
            "1/1 [==============================] - 0s 34ms/step - loss: 7.7125 - accuracy: 0.5000 - val_loss: 7.7125 - val_accuracy: 0.5000\n",
            "1/1 [==============================] - 0s 22ms/step - loss: 7.7125 - accuracy: 0.5000\n",
            "1/1 [==============================] - 0s 64ms/step\n",
            "1    4\n",
            "Name: ncars, dtype: int64  prediction shape: [[-0.2363575]]\n",
            "0\n"
          ]
        }
      ]
    },
    {
      "cell_type": "code",
      "source": [],
      "metadata": {
        "id": "dAE3qFxqCVwE"
      },
      "execution_count": null,
      "outputs": []
    }
  ]
}