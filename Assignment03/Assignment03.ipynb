{
  "nbformat": 4,
  "nbformat_minor": 0,
  "metadata": {
    "colab": {
      "provenance": []
    },
    "kernelspec": {
      "name": "python3",
      "display_name": "Python 3"
    },
    "language_info": {
      "name": "python"
    }
  },
  "cells": [
    {
      "cell_type": "code",
      "source": [
        "#@title Imports\n",
        "import tensorflow as tf\n",
        "import tensorflow.keras as keras\n",
        "import tensorflow.keras.backend as K\n",
        "import numpy as np \n",
        "import random, os\n",
        "import pandas as pd\n",
        "from math import floor, ceil\n",
        "from pylab import rcParams\n",
        "from time import gmtime, strftime\n",
        "from sklearn.model_selection import train_test_split\n",
        "from random import choice"
      ],
      "metadata": {
        "id": "J1vJA6_TGzhX"
      },
      "execution_count": 2,
      "outputs": []
    },
    {
      "cell_type": "code",
      "execution_count": 169,
      "metadata": {
        "colab": {
          "base_uri": "https://localhost:8080/",
          "height": 87
        },
        "id": "dyzT0rAPDfn1",
        "outputId": "5c01a281-4cb1-4554-d137-b33165843b24"
      },
      "outputs": [
        {
          "output_type": "execute_result",
          "data": {
            "text/plain": [
              "'\\n    \\n\\n\\nprint(x_train_num_cars)\\nprint(x_train_num_loads)\\n\\nprint(x_train_num_wheels)\\nprint(x_train_num_length)\\nprint(x_train_num_shape)\\nprint(x_train_car_loads)\\nprint(x_train_num_load_shape)\\n\\nprint(x_train_next_rec)\\nprint(x_train_next_crc)\\nprint(x_train_next_tri)\\nprint(x_train_next_hex)\\n\\n\\nprediction = model.predict(X_test[:1])\\nprint(X_test[:1], \" prediction shape:\", prediction)\\n\\ndirection = -1\\n\\nif ( prediction > 0.5 and prediction < 1.0) :\\n  direction = 1\\n\\nprint(direction)\\n\\nX_train, X_test, y_train, y_test = train_test_split( X, y, test_size=0.10, random_state=42)\\n\\n'"
            ],
            "application/vnd.google.colaboratory.intrinsic+json": {
              "type": "string"
            }
          },
          "metadata": {},
          "execution_count": 169
        }
      ],
      "source": [
        "#@title Tratando os dados\n",
        "\n",
        "\n",
        "params = ['ncars', 'nloads', \n",
        "          '1nwhells', '1lenght', '1shape', '1loads', '1lshape',\n",
        "          '2nwhells', '2lenght', '2shape', '2loads', '2lshape',\n",
        "          '3nwhells', '3lenght', '3shape', '3loads', '3lshape',\n",
        "          '4nwhells', '4lenght', '4shape', '4loads', '4lshape',\n",
        "          \n",
        "          'rectorec', 'rectotri', 'rectohex', 'rectocircle', 'tritotri', 'tritohex', 'tritocir','hextohex','hextocir','cirtocir', 'class']\n",
        "\n",
        "data = pd.read_csv(\"/content/trains-transformed.data\", delimiter=' ', header=None, names=params)\n",
        "\n",
        "trains= pd.DataFrame(data[['ncars', 'nloads', \n",
        "          '1nwhells', '1lenght', '1shape', '1loads', '1lshape',\n",
        "          '2nwhells', '2lenght', '2shape', '2loads', '2lshape',\n",
        "          '3nwhells', '3lenght', '3shape', '3loads', '3lshape',\n",
        "          '4nwhells', '4lenght', '4shape', '4loads', '4lshape',\n",
        "          \n",
        "          'rectorec', 'rectotri', 'rectohex', 'rectocircle', 'tritotri', 'tritohex', 'tritocir','hextohex','hextocir','cirtocir', 'class']]).head()\n",
        "trains.index +=1\n",
        "trains = (trains.rename_axis('train').reset_index()).replace({\n",
        "                                                                                  'class' : {'east':-1, 'west':1,'-':0},\n",
        "                                                                                  '1lenght':{'long':1, 'short':-1,'-':0},\n",
        "                                                                                  '2lenght':{'long':1, 'short':-1,'-':0},\n",
        "                                                                                  '3lenght':{'long':1, 'short':-1,'-':0},\n",
        "                                                                                  '4lenght':{'long':1, 'short':-1,'-':0},\n",
        "                                                                                  '1nwhells':{'-':0},\n",
        "                                                                                  '2nwhells':{'-':0},\n",
        "                                                                                  '3nwhells':{'-':0},\n",
        "                                                                                  '4nwhells':{'-':0},\n",
        "                                                                                  '1lshape':{'circlelod':1, 'hexagonlod':2, 'rectanglod':3, 'trianglod':4,'-':0},\n",
        "                                                                                  '2lshape':{'circlelod':1, 'hexagonlod':2, 'rectanglod':3, 'trianglod':4,'-':0},\n",
        "                                                                                  '3lshape':{'circlelod':1, 'hexagonlod':2, 'rectanglod':3, 'trianglod':4,'-':0},\n",
        "                                                                                  '4lshape':{'circlelod':1, 'hexagonlod':2, 'rectanglod':3, 'trianglod':4,'-':0},\n",
        "                                                                                  '1shape':{'closedrect':1, 'dblopnrect':2, 'ellipse':3, 'engine':4,'hexagon':5, 'jaggedtop':6, 'openrect':7, 'opentrap':8, 'slopetop':9, 'ushaped':10,'-':0},\n",
        "                                                                                  '2shape':{'closedrect':1, 'dblopnrect':2, 'ellipse':3, 'engine':4,'hexagon':5, 'jaggedtop':6, 'openrect':7, 'opentrap':8, 'slopetop':9, 'ushaped':10,'-':0},\n",
        "                                                                                  '3shape':{'closedrect':1, 'dblopnrect':2, 'ellipse':3, 'engine':4,'hexagon':5, 'jaggedtop':6, 'openrect':7, 'opentrap':8, 'slopetop':9, 'ushaped':10,'-':0},\n",
        "                                                                                  '4shape':{'closedrect':1, 'dblopnrect':2, 'ellipse':3, 'engine':4,'hexagon':5, 'jaggedtop':6, 'openrect':7, 'opentrap':8, 'slopetop':9, 'ushaped':10,'-':0},\n",
        "                                                                                  '1loads':{'-':0},\n",
        "                                                                                  '2loads':{'-':0},\n",
        "                                                                                  '3loads':{'-':0},\n",
        "                                                                                  '4loads':{'-':0}\n",
        "                                                                                  })\n",
        "\n",
        "\n",
        "X = trains.drop(columns='class').astype(float)\n",
        "\n",
        "\n",
        "\n",
        "y = trains['class'].astype(float)\n",
        "\n",
        "\n",
        "X_train, X_test, y_train, y_test = train_test_split(X, y,\n",
        "                                                    test_size=0.1,\n",
        "                                                    random_state=123)\n",
        "\n",
        "x_train_num_cars = X_train[['train','ncars']]\n",
        "x_train_num_loads = X_train[['train','nloads']]\n",
        "x_train_num_wheels = X_train[['train','ncars','1nwhells','2nwhells','3nwhells','4nwhells']]\n",
        "x_train_num_length = X_train[['train','ncars','1lenght','2lenght','3lenght','4lenght']]\n",
        "x_train_num_shape = X_train[['train','ncars','1shape','2shape','3shape','4shape']]\n",
        "x_train_car_loads = X_train[['train','ncars','1loads','1loads','3loads','4loads']]\n",
        "x_train_num_load_shape = X_train[['train','ncars','1lshape','2lshape','3lshape','4lshape']]\n",
        "\n",
        "x_train_next_rec = X_train[['train','ncars','rectotri','rectorec', 'rectohex', 'rectocircle']]\n",
        "x_train_next_crc = X_train[['train','ncars','rectocircle','cirtocir','tritocir','hextocir']]\n",
        "x_train_next_tri = X_train[['train','ncars','tritotri','tritohex', 'tritocir','rectotri']]\n",
        "x_train_next_hex = X_train[['train','ncars','hextohex','hextocir','tritohex','rectohex']]\n",
        "\n",
        "x_test_train_num_cars = X_test[['train','ncars']]\n",
        "x_test_train_num_loads = X_test[['train','nloads']]\n",
        "x_test_train_num_wheels = X_test[['train','ncars','1nwhells','2nwhells','3nwhells','4nwhells']]\n",
        "x_test_train_num_length = X_test[['train','ncars','1lenght','2lenght','3lenght','4lenght']]\n",
        "x_test_train_num_shape = X_test[['train','ncars','1shape','2shape','3shape','4shape']]\n",
        "x_test_train_car_loads = X_test[['train','ncars','1loads','1loads','3loads','4loads']]\n",
        "x_test_train_num_load_shape = X_test[['train','ncars','1lshape','2lshape','3lshape','4lshape']]\n",
        "\n",
        "x_test_train_next_rec = X_test[['train','ncars','rectotri','rectorec', 'rectohex', 'rectocircle']]\n",
        "x_test_train_next_crc = X_test[['train','ncars','rectocircle','cirtocir','tritocir','hextocir']]\n",
        "x_test_train_next_tri = X_test[['train','ncars','tritotri','tritohex', 'tritocir','rectotri']]\n",
        "x_test_train_next_hex = X_test[['train','ncars','hextohex','hextocir','tritohex','rectohex']]\n",
        "\n",
        "'''\n",
        "    \n",
        "\n",
        "\n",
        "print(x_train_num_cars)\n",
        "print(x_train_num_loads)\n",
        "\n",
        "print(x_train_num_wheels)\n",
        "print(x_train_num_length)\n",
        "print(x_train_num_shape)\n",
        "print(x_train_car_loads)\n",
        "print(x_train_num_load_shape)\n",
        "\n",
        "print(x_train_next_rec)\n",
        "print(x_train_next_crc)\n",
        "print(x_train_next_tri)\n",
        "print(x_train_next_hex)\n",
        "\n",
        "\n",
        "prediction = model.predict(X_test[:1])\n",
        "print(X_test[:1], \" prediction shape:\", prediction)\n",
        "\n",
        "direction = -1\n",
        "\n",
        "if ( prediction > 0.5 and prediction < 1.0) :\n",
        "  direction = 1\n",
        "\n",
        "print(direction)\n",
        "\n",
        "X_train, X_test, y_train, y_test = train_test_split( X, y, test_size=0.10, random_state=42)\n",
        "\n",
        "'''"
      ]
    },
    {
      "cell_type": "code",
      "source": [
        "#@title Auxiliar Functions\n",
        "taxa_aprendizado = 0.3\n",
        "\n",
        "# Codificar one-hot\n",
        "def encode(series):\n",
        "    return  pd.get_dummies(series.astype(str))\n",
        "\n",
        "# Define the bipolar semilinear activation function\n",
        "def bipolar_semilinear(x):\n",
        "  return(2 / (1 + K.exp(-x)) - 1)\n",
        "\n",
        "X_train_results = [11]\n",
        "\n"
      ],
      "metadata": {
        "id": "nuso63gUa_Cl"
      },
      "execution_count": 220,
      "outputs": []
    },
    {
      "cell_type": "code",
      "source": [
        "#@title Definition of neural network\n",
        "def create_neural_network(db_x_train, db_x_test):\n",
        "  \n",
        "\n",
        "    tam = len(db_x_train.axes[1])\n",
        "    \n",
        "    inputs = keras.Input(shape=(tam,), name=\"digits\")\n",
        "    x = tf.keras.layers.Dense(20, activation=bipolar_semilinear, name=\"dense_1\")(inputs)\n",
        "    #x = tf.keras.layers.Dense(9, activation=\"relu\", name=\"dense_2\")(x)\n",
        "    outputs = tf.keras.layers.Dense(1, activation=bipolar_semilinear, name=\"predictions\")(x)\n",
        "\n",
        "    \n",
        "    model = keras.Model(inputs=inputs, outputs=outputs)\n",
        "\n",
        "    model.compile(loss=keras.losses.binary_crossentropy,\n",
        "                optimizer=keras.optimizers.Adam(lr=taxa_aprendizado),\n",
        "                metrics=['accuracy'],run_eagerly=True)\n",
        "\n",
        "    batch_size = 32  # X_train 535 / 32 = 16.71 (então são 17 batches de 32)\n",
        "    epochs = 2\n",
        "    #print(db_x_train.shape,y_train.shape, db_x_test.shape, y_test.shape)\n",
        "    history  =  model.fit(db_x_train, y_train,\n",
        "                        epochs=epochs,\n",
        "                        verbose=1,\n",
        "                        validation_data=(db_x_test, y_test))\n",
        "\n",
        "    #print(\"Evaluate model on test data\")\n",
        "    results = model.evaluate(db_x_test, y_test, batch_size=128)\n",
        "    #print(\"test loss, test acc:\", results)\n",
        "\n",
        "    # Generate a prediction using model.predict() \n",
        "    # and calculate it's shape:\n",
        "    #print(\"Generate a prediction\")\n",
        "    prediction = model.predict(db_x_test[:1])\n",
        "    #print(X_test[:1], \" prediction shape:\", prediction)\n",
        "    \n",
        "    direction = 0\n",
        "\n",
        "    results = [-1,1]\n",
        "      \n",
        "    if ( prediction >= 0.5 and prediction <= 1.0) :\n",
        "      direction = 1\n",
        "    elif ( prediction <= -0.5 and prediction >= -1.0) :\n",
        "      direction = -1\n",
        "    else:\n",
        "      direction = choice(results) \n",
        "\n",
        "    layer_name = 'dense_1'\n",
        "    layer = tf.keras.Model(inputs=model.input, outputs=model.get_layer(layer_name).output)\n",
        "\n",
        "    return layer\n"
      ],
      "metadata": {
        "id": "dE5llX5ZpIME"
      },
      "execution_count": 389,
      "outputs": []
    },
    {
      "cell_type": "code",
      "source": [
        "#@title Creating 11 Neural Networks \n",
        "\n",
        "\n",
        "#models_prediction = np.array([11])\n",
        "\n",
        "\n",
        "\n",
        "model = create_neural_network(x_train_num_loads,x_test_train_num_loads)\n",
        "\n",
        "create_neural_network(x_train_num_wheels,x_test_train_num_wheels)\n",
        "\n",
        "create_neural_network(x_train_num_length,x_test_train_num_length)\n",
        "\n",
        "create_neural_network(x_train_num_shape,x_test_train_num_shape)\n",
        "\n",
        "create_neural_network(x_train_car_loads,x_test_train_car_loads)\n",
        "\n",
        "create_neural_network(x_train_num_load_shape,x_test_train_num_load_shape)\n",
        "\n",
        "create_neural_network(x_train_next_rec,x_test_train_next_rec)\n",
        "\n",
        "create_neural_network(x_train_next_tri,x_test_train_next_tri)\n",
        "\n",
        "create_neural_network(x_train_next_crc,x_test_train_next_crc)\n",
        "\n",
        "create_neural_network(x_train_next_hex,x_test_train_next_hex)\n",
        "\n",
        "\n",
        "#metanetwork\n",
        "inputs = model.output\n",
        "x = tf.keras.layers.Dense(3, activation=bipolar_semilinear)(inputs)\n",
        "output = tf.keras.layers.Dense(1, activation=bipolar_semilinear)(x)\n",
        "meta_network = tf.keras.Model(inputs=inputs, outputs=output)\n",
        "\n",
        "meta_network.compile(loss='binary_crossentropy', optimizer=keras.optimizers.Adam(lr=taxa_aprendizado), metrics=['accuracy'])\n",
        "\n",
        "meta_network.summary()\n"
      ],
      "metadata": {
        "id": "dAE3qFxqCVwE",
        "colab": {
          "base_uri": "https://localhost:8080/"
        },
        "outputId": "bd235315-e177-49ad-c0ec-2ba8ab076c3b"
      },
      "execution_count": 419,
      "outputs": [
        {
          "output_type": "stream",
          "name": "stdout",
          "text": [
            "Epoch 1/2\n",
            "1/1 [==============================] - 0s 125ms/step - loss: -15.4249 - accuracy: 0.0000e+00 - val_loss: -15.4249 - val_accuracy: 0.0000e+00\n",
            "Epoch 2/2\n",
            "1/1 [==============================] - 0s 63ms/step - loss: -15.4249 - accuracy: 0.0000e+00 - val_loss: -15.4249 - val_accuracy: 0.0000e+00\n",
            "1/1 [==============================] - 0s 33ms/step - loss: -15.4249 - accuracy: 0.0000e+00\n",
            "1/1 [==============================] - 0s 28ms/step\n",
            "Epoch 1/2\n",
            "1/1 [==============================] - ETA: 0s - loss: -15.4249 - accuracy: 0.0000e+00"
          ]
        },
        {
          "output_type": "stream",
          "name": "stderr",
          "text": [
            "/usr/local/lib/python3.8/dist-packages/keras/optimizers/optimizer_v2/adam.py:110: UserWarning: The `lr` argument is deprecated, use `learning_rate` instead.\n",
            "  super(Adam, self).__init__(name, **kwargs)\n"
          ]
        },
        {
          "output_type": "stream",
          "name": "stdout",
          "text": [
            "\b\b\b\b\b\b\b\b\b\b\b\b\b\b\b\b\b\b\b\b\b\b\b\b\b\b\b\b\b\b\b\b\b\b\b\b\b\b\b\b\b\b\b\b\b\b\b\b\b\b\b\b\b\b\b\b\b\b\b\b\b\b\b\b\b\b\b\b\b\b\b\b\b\b\b\b\b\b\b\b\b\b\b\b\b\b\r1/1 [==============================] - 0s 138ms/step - loss: -15.4249 - accuracy: 0.0000e+00 - val_loss: -15.4249 - val_accuracy: 0.0000e+00\n",
            "Epoch 2/2\n",
            "1/1 [==============================] - 0s 87ms/step - loss: -15.4249 - accuracy: 0.0000e+00 - val_loss: -15.4249 - val_accuracy: 0.0000e+00\n",
            "1/1 [==============================] - 0s 33ms/step - loss: -15.4249 - accuracy: 0.0000e+00\n",
            "1/1 [==============================] - 0s 25ms/step\n",
            "Epoch 1/2\n",
            "1/1 [==============================] - ETA: 0s - loss: -4.3073 - accuracy: 0.0000e+00"
          ]
        },
        {
          "output_type": "stream",
          "name": "stderr",
          "text": [
            "/usr/local/lib/python3.8/dist-packages/keras/optimizers/optimizer_v2/adam.py:110: UserWarning: The `lr` argument is deprecated, use `learning_rate` instead.\n",
            "  super(Adam, self).__init__(name, **kwargs)\n"
          ]
        },
        {
          "output_type": "stream",
          "name": "stdout",
          "text": [
            "\b\b\b\b\b\b\b\b\b\b\b\b\b\b\b\b\b\b\b\b\b\b\b\b\b\b\b\b\b\b\b\b\b\b\b\b\b\b\b\b\b\b\b\b\b\b\b\b\b\b\b\b\b\b\b\b\b\b\b\b\b\b\b\b\b\b\b\b\b\b\b\b\b\b\b\b\b\b\b\b\b\b\b\b\b\r1/1 [==============================] - 0s 183ms/step - loss: -4.3073 - accuracy: 0.0000e+00 - val_loss: -15.4249 - val_accuracy: 0.0000e+00\n",
            "Epoch 2/2\n",
            "1/1 [==============================] - 0s 77ms/step - loss: -15.4249 - accuracy: 0.0000e+00 - val_loss: -15.4249 - val_accuracy: 0.0000e+00\n",
            "1/1 [==============================] - 0s 43ms/step - loss: -15.4249 - accuracy: 0.0000e+00\n",
            "1/1 [==============================] - 0s 26ms/step\n",
            "Epoch 1/2\n",
            "1/1 [==============================] - 0s 110ms/step - loss: -11.8432 - accuracy: 0.0000e+00 - val_loss: -15.4249 - val_accuracy: 0.0000e+00\n",
            "Epoch 2/2\n"
          ]
        },
        {
          "output_type": "stream",
          "name": "stderr",
          "text": [
            "/usr/local/lib/python3.8/dist-packages/keras/optimizers/optimizer_v2/adam.py:110: UserWarning: The `lr` argument is deprecated, use `learning_rate` instead.\n",
            "  super(Adam, self).__init__(name, **kwargs)\n"
          ]
        },
        {
          "output_type": "stream",
          "name": "stdout",
          "text": [
            "1/1 [==============================] - 0s 72ms/step - loss: -15.4249 - accuracy: 0.0000e+00 - val_loss: -15.4249 - val_accuracy: 0.0000e+00\n",
            "1/1 [==============================] - 0s 30ms/step - loss: -15.4249 - accuracy: 0.0000e+00\n",
            "1/1 [==============================] - 0s 36ms/step\n",
            "Epoch 1/2\n",
            "1/1 [==============================] - 0s 116ms/step - loss: 0.2155 - accuracy: 0.0000e+00 - val_loss: -15.4249 - val_accuracy: 0.0000e+00\n",
            "Epoch 2/2\n",
            "1/1 [==============================] - ETA: 0s - loss: -15.4249 - accuracy: 0.0000e+00"
          ]
        },
        {
          "output_type": "stream",
          "name": "stderr",
          "text": [
            "/usr/local/lib/python3.8/dist-packages/keras/optimizers/optimizer_v2/adam.py:110: UserWarning: The `lr` argument is deprecated, use `learning_rate` instead.\n",
            "  super(Adam, self).__init__(name, **kwargs)\n"
          ]
        },
        {
          "output_type": "stream",
          "name": "stdout",
          "text": [
            "1/1 [==============================] - 0s 63ms/step - loss: -15.4249 - accuracy: 0.0000e+00 - val_loss: -15.4249 - val_accuracy: 0.0000e+00\n",
            "1/1 [==============================] - 0s 35ms/step - loss: -15.4249 - accuracy: 0.0000e+00\n",
            "1/1 [==============================] - 0s 35ms/step\n",
            "Epoch 1/2\n",
            "1/1 [==============================] - ETA: 0s - loss: -15.4249 - accuracy: 0.0000e+00"
          ]
        },
        {
          "output_type": "stream",
          "name": "stderr",
          "text": [
            "/usr/local/lib/python3.8/dist-packages/keras/optimizers/optimizer_v2/adam.py:110: UserWarning: The `lr` argument is deprecated, use `learning_rate` instead.\n",
            "  super(Adam, self).__init__(name, **kwargs)\n"
          ]
        },
        {
          "output_type": "stream",
          "name": "stdout",
          "text": [
            "\b\b\b\b\b\b\b\b\b\b\b\b\b\b\b\b\b\b\b\b\b\b\b\b\b\b\b\b\b\b\b\b\b\b\b\b\b\b\b\b\b\b\b\b\b\b\b\b\b\b\b\b\b\b\b\b\b\b\b\b\b\b\b\b\b\b\b\b\b\b\b\b\b\b\b\b\b\b\b\b\b\b\b\b\b\b\r1/1 [==============================] - 0s 144ms/step - loss: -15.4249 - accuracy: 0.0000e+00 - val_loss: -15.4249 - val_accuracy: 0.0000e+00\n",
            "Epoch 2/2\n",
            "1/1 [==============================] - 0s 82ms/step - loss: -15.4249 - accuracy: 0.0000e+00 - val_loss: -15.4249 - val_accuracy: 0.0000e+00\n",
            "1/1 [==============================] - 0s 37ms/step - loss: -15.4249 - accuracy: 0.0000e+00\n",
            "1/1 [==============================] - 0s 30ms/step\n",
            "Epoch 1/2\n",
            "1/1 [==============================] - ETA: 0s - loss: -3.8491 - accuracy: 0.0000e+00"
          ]
        },
        {
          "output_type": "stream",
          "name": "stderr",
          "text": [
            "/usr/local/lib/python3.8/dist-packages/keras/optimizers/optimizer_v2/adam.py:110: UserWarning: The `lr` argument is deprecated, use `learning_rate` instead.\n",
            "  super(Adam, self).__init__(name, **kwargs)\n"
          ]
        },
        {
          "output_type": "stream",
          "name": "stdout",
          "text": [
            "\b\b\b\b\b\b\b\b\b\b\b\b\b\b\b\b\b\b\b\b\b\b\b\b\b\b\b\b\b\b\b\b\b\b\b\b\b\b\b\b\b\b\b\b\b\b\b\b\b\b\b\b\b\b\b\b\b\b\b\b\b\b\b\b\b\b\b\b\b\b\b\b\b\b\b\b\b\b\b\b\b\b\b\b\b\r1/1 [==============================] - 0s 183ms/step - loss: -3.8491 - accuracy: 0.0000e+00 - val_loss: -15.4249 - val_accuracy: 0.0000e+00\n",
            "Epoch 2/2\n",
            "1/1 [==============================] - 0s 85ms/step - loss: -15.4249 - accuracy: 0.0000e+00 - val_loss: -15.4249 - val_accuracy: 0.0000e+00\n",
            "1/1 [==============================] - 0s 42ms/step - loss: -15.4249 - accuracy: 0.0000e+00\n",
            "1/1 [==============================] - 0s 33ms/step\n",
            "Epoch 1/2\n",
            "1/1 [==============================] - ETA: 0s - loss: -15.4249 - accuracy: 0.0000e+00"
          ]
        },
        {
          "output_type": "stream",
          "name": "stderr",
          "text": [
            "/usr/local/lib/python3.8/dist-packages/keras/optimizers/optimizer_v2/adam.py:110: UserWarning: The `lr` argument is deprecated, use `learning_rate` instead.\n",
            "  super(Adam, self).__init__(name, **kwargs)\n"
          ]
        },
        {
          "output_type": "stream",
          "name": "stdout",
          "text": [
            "\b\b\b\b\b\b\b\b\b\b\b\b\b\b\b\b\b\b\b\b\b\b\b\b\b\b\b\b\b\b\b\b\b\b\b\b\b\b\b\b\b\b\b\b\b\b\b\b\b\b\b\b\b\b\b\b\b\b\b\b\b\b\b\b\b\b\b\b\b\b\b\b\b\b\b\b\b\b\b\b\b\b\b\b\b\b\r1/1 [==============================] - 0s 138ms/step - loss: -15.4249 - accuracy: 0.0000e+00 - val_loss: -15.4249 - val_accuracy: 0.0000e+00\n",
            "Epoch 2/2\n",
            "1/1 [==============================] - 0s 69ms/step - loss: -15.4249 - accuracy: 0.0000e+00 - val_loss: -15.4249 - val_accuracy: 0.0000e+00\n",
            "1/1 [==============================] - 0s 34ms/step - loss: -15.4249 - accuracy: 0.0000e+00\n",
            "1/1 [==============================] - 0s 28ms/step\n",
            "Epoch 1/2\n",
            "1/1 [==============================] - ETA: 0s - loss: -4.7677 - accuracy: 0.0000e+00"
          ]
        },
        {
          "output_type": "stream",
          "name": "stderr",
          "text": [
            "/usr/local/lib/python3.8/dist-packages/keras/optimizers/optimizer_v2/adam.py:110: UserWarning: The `lr` argument is deprecated, use `learning_rate` instead.\n",
            "  super(Adam, self).__init__(name, **kwargs)\n"
          ]
        },
        {
          "output_type": "stream",
          "name": "stdout",
          "text": [
            "\b\b\b\b\b\b\b\b\b\b\b\b\b\b\b\b\b\b\b\b\b\b\b\b\b\b\b\b\b\b\b\b\b\b\b\b\b\b\b\b\b\b\b\b\b\b\b\b\b\b\b\b\b\b\b\b\b\b\b\b\b\b\b\b\b\b\b\b\b\b\b\b\b\b\b\b\b\b\b\b\b\b\b\b\b\r1/1 [==============================] - 0s 157ms/step - loss: -4.7677 - accuracy: 0.0000e+00 - val_loss: -15.4249 - val_accuracy: 0.0000e+00\n",
            "Epoch 2/2\n",
            "1/1 [==============================] - 0s 81ms/step - loss: -15.4249 - accuracy: 0.0000e+00 - val_loss: -15.4249 - val_accuracy: 0.0000e+00\n",
            "1/1 [==============================] - 0s 37ms/step - loss: -15.4249 - accuracy: 0.0000e+00\n",
            "1/1 [==============================] - 0s 27ms/step\n",
            "Epoch 1/2\n",
            "1/1 [==============================] - ETA: 0s - loss: -15.4249 - accuracy: 0.0000e+00"
          ]
        },
        {
          "output_type": "stream",
          "name": "stderr",
          "text": [
            "/usr/local/lib/python3.8/dist-packages/keras/optimizers/optimizer_v2/adam.py:110: UserWarning: The `lr` argument is deprecated, use `learning_rate` instead.\n",
            "  super(Adam, self).__init__(name, **kwargs)\n"
          ]
        },
        {
          "output_type": "stream",
          "name": "stdout",
          "text": [
            "\b\b\b\b\b\b\b\b\b\b\b\b\b\b\b\b\b\b\b\b\b\b\b\b\b\b\b\b\b\b\b\b\b\b\b\b\b\b\b\b\b\b\b\b\b\b\b\b\b\b\b\b\b\b\b\b\b\b\b\b\b\b\b\b\b\b\b\b\b\b\b\b\b\b\b\b\b\b\b\b\b\b\b\b\b\b\r1/1 [==============================] - 0s 147ms/step - loss: -15.4249 - accuracy: 0.0000e+00 - val_loss: -15.4249 - val_accuracy: 0.0000e+00\n",
            "Epoch 2/2\n",
            "1/1 [==============================] - 0s 72ms/step - loss: -15.4249 - accuracy: 0.0000e+00 - val_loss: -15.4249 - val_accuracy: 0.0000e+00\n",
            "1/1 [==============================] - 0s 33ms/step - loss: -15.4249 - accuracy: 0.0000e+00\n",
            "1/1 [==============================] - 0s 22ms/step\n",
            "Model: \"model_862\"\n",
            "_________________________________________________________________\n",
            " Layer (type)                Output Shape              Param #   \n",
            "=================================================================\n",
            " input_20 (InputLayer)       [(None, 20)]              0         \n",
            "                                                                 \n",
            " dense_109 (Dense)           (None, 3)                 63        \n",
            "                                                                 \n",
            " dense_110 (Dense)           (None, 1)                 4         \n",
            "                                                                 \n",
            "=================================================================\n",
            "Total params: 67\n",
            "Trainable params: 67\n",
            "Non-trainable params: 0\n",
            "_________________________________________________________________\n"
          ]
        },
        {
          "output_type": "stream",
          "name": "stderr",
          "text": [
            "/usr/local/lib/python3.8/dist-packages/keras/optimizers/optimizer_v2/adam.py:110: UserWarning: The `lr` argument is deprecated, use `learning_rate` instead.\n",
            "  super(Adam, self).__init__(name, **kwargs)\n"
          ]
        }
      ]
    }
  ]
}